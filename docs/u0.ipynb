{
 "cells": [
  {
   "cell_type": "markdown",
   "source": [
    "# Initial conditions\n",
    "1Hz pacing for 1000 seconds"
   ],
   "metadata": {}
  },
  {
   "outputs": [],
   "cell_type": "code",
   "source": [
    "using ProgressLogging\n",
    "using OrdinaryDiffEq\n",
    "using ModelingToolkit\n",
    "using ECMEDox\n",
    "using ECMEDox: second, mM, Hz, μM, mV\n",
    "using Plots\n",
    "using DisplayAs: PNG\n",
    "\n",
    "tend = 1000.0second\n",
    "bcl = 1.0second\n",
    "@named sys = build_model()\n",
    "u0 = build_u0(sys)\n",
    "sts = unknowns(sys)\n",
    "alg = KenCarp47()\n",
    "@unpack iStim = sys\n",
    "callback = build_stim_callbacks(iStim, tend; period=bcl)\n",
    "prob = ODEProblem(sys, u0, tend)"
   ],
   "metadata": {},
   "execution_count": null
  },
  {
   "outputs": [],
   "cell_type": "code",
   "source": [
    "@time sol = solve(prob, alg; reltol=1e-6, abstol=1e-6, progress=true, callback = callback)\n",
    "\n",
    "for i in sts\n",
    "    istr = replace(string(i), \"(t)\" => \"\")\n",
    "    println(\"sys.\", istr, \" => \", sol[i][end], \",\")\n",
    "end"
   ],
   "metadata": {},
   "execution_count": null
  },
  {
   "outputs": [],
   "cell_type": "code",
   "source": [
    "plot(sol, idxs=sys.vm, legend=:right, tspan=(900second, 901second)) |> PNG"
   ],
   "metadata": {},
   "execution_count": null
  },
  {
   "cell_type": "markdown",
   "source": [
    "Citric acid cycle metabolites\n",
    "Citrate and isocitrate have the highest concentrations"
   ],
   "metadata": {}
  },
  {
   "outputs": [],
   "cell_type": "code",
   "source": [
    "@unpack cit, isoc, oaa, akg, scoa, suc, fum, mal = sys\n",
    "plot(sol, idxs=[cit, isoc, oaa, akg, scoa, suc, fum, mal], legend=:right, title=\"CAC metabolites\") |> PNG"
   ],
   "metadata": {},
   "execution_count": null
  },
  {
   "cell_type": "markdown",
   "source": [
    "CAC flux"
   ],
   "metadata": {}
  },
  {
   "outputs": [],
   "cell_type": "code",
   "source": [
    "@unpack vMDH, vAAT, vIDH = sys\n",
    "plot(sol, idxs=[vMDH, vAAT, vIDH], legend=:right, title=\"CAC flux\") |> PNG"
   ],
   "metadata": {},
   "execution_count": null
  },
  {
   "cell_type": "markdown",
   "source": [
    "Q cycle"
   ],
   "metadata": {}
  },
  {
   "outputs": [],
   "cell_type": "code",
   "source": [
    "@unpack Q_n, SQn, QH2_n, QH2_p, Q_p, SQp, fes_ox, fes_rd, cytc_ox, cytc_rd = sys\n",
    "plot(sol, idxs=[Q_n + Q_p, SQn, QH2_n + QH2_p, SQp], title=\"Q cycle\", legend=:left, xlabel=\"Time (ms)\", ylabel=\"Conc. (μM)\") |> PNG"
   ],
   "metadata": {},
   "execution_count": null
  },
  {
   "cell_type": "markdown",
   "source": [
    "Q cycle downstream"
   ],
   "metadata": {}
  },
  {
   "outputs": [],
   "cell_type": "code",
   "source": [
    "plot(sol, idxs=[fes_ox, fes_rd, cytc_ox, cytc_rd], title=\"Q cycle (downstream)\", legend=:left, xlabel=\"Time (ms)\", ylabel=\"Conc. (μM)\") |> PNG"
   ],
   "metadata": {},
   "execution_count": null
  },
  {
   "outputs": [],
   "cell_type": "code",
   "source": [
    "plot(sol, idxs = [sys.vHresC1, sys.vHresC3, sys.vHresC4], ylims=(0, 3)) |> PNG"
   ],
   "metadata": {},
   "execution_count": null
  },
  {
   "outputs": [],
   "cell_type": "code",
   "source": [
    "plot(sol, idxs = [sys.sox_i, sys.sox_m], tspan=(900e3, 910e3)) |> PNG"
   ],
   "metadata": {},
   "execution_count": null
  },
  {
   "cell_type": "markdown",
   "source": [
    "ROS"
   ],
   "metadata": {}
  },
  {
   "outputs": [],
   "cell_type": "code",
   "source": [
    "plot(sol, idxs = [sys.vROSIf, sys.vROSIq, sys.vROSC1, sys.vROSC3], tspan=(900e3, 910e3)) |> PNG"
   ],
   "metadata": {},
   "execution_count": null
  },
  {
   "cell_type": "markdown",
   "source": [
    "O2 Shunt"
   ],
   "metadata": {}
  },
  {
   "outputs": [],
   "cell_type": "code",
   "source": [
    "plot(sol, idxs=100 * sys.vROS / (sys.vO2 + sys.vROS), title=\"O2 Shunt\", tspan=(900e3, 910e3)) |> PNG"
   ],
   "metadata": {},
   "execution_count": null
  },
  {
   "cell_type": "markdown",
   "source": [
    "MMP"
   ],
   "metadata": {}
  },
  {
   "outputs": [],
   "cell_type": "code",
   "source": [
    "plot(sol, idxs = [sys.dpsi], tspan=(900e3, 910e3)) |> PNG"
   ],
   "metadata": {},
   "execution_count": null
  },
  {
   "cell_type": "markdown",
   "source": [
    "ATP synthesis rate"
   ],
   "metadata": {}
  },
  {
   "outputs": [],
   "cell_type": "code",
   "source": [
    "plot(sol, idxs = [sys.vC5], tspan=(900e3, 910e3)) |> PNG"
   ],
   "metadata": {},
   "execution_count": null
  },
  {
   "cell_type": "markdown",
   "source": [
    "---\n",
    "\n",
    "*This notebook was generated using [Literate.jl](https://github.com/fredrikekre/Literate.jl).*"
   ],
   "metadata": {}
  }
 ],
 "nbformat_minor": 3,
 "metadata": {
  "language_info": {
   "file_extension": ".jl",
   "mimetype": "application/julia",
   "name": "julia",
   "version": "1.11.6"
  },
  "kernelspec": {
   "name": "julia-1.11",
   "display_name": "Julia 1.11.6",
   "language": "julia"
  }
 },
 "nbformat": 4
}
