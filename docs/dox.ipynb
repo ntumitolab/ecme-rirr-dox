{
 "cells": [
  {
   "cell_type": "markdown",
   "source": [
    "# Doxorubicin addition test"
   ],
   "metadata": {}
  },
  {
   "outputs": [],
   "cell_type": "code",
   "source": [
    "using ProgressLogging\n",
    "using OrdinaryDiffEq\n",
    "using ModelingToolkit\n",
    "using Plots\n",
    "using DisplayAs: PNG\n",
    "using ECMEDox\n",
    "using ECMEDox: second, mM, Hz, μM, build_stim_callbacks\n",
    "Plots.default(lw=1.5, size=(600, 600))\n",
    "\n",
    "tend = 1000.0second\n",
    "bcl = 1second\n",
    "@named sys = build_model()\n",
    "@unpack DOX = sys\n",
    "sts = unknowns(sys)\n",
    "u0 = build_u0(sys)\n",
    "alg = KenCarp47()\n",
    "@unpack iStim = sys\n",
    "callback = build_stim_callbacks(iStim, tend; period=bcl)\n",
    "opts = (; reltol=1e-6, abstol=1e-6, progress=true, callback=callback)\n",
    "prob = ODEProblem(sys, u0, tend)"
   ],
   "metadata": {},
   "execution_count": null
  },
  {
   "cell_type": "markdown",
   "source": [
    "The collapse of MMP is between 290uM and 300uM of DOX"
   ],
   "metadata": {}
  },
  {
   "outputs": [],
   "cell_type": "code",
   "source": [
    "doxrange = 290μM:1μM:300μM\n",
    "prob_func = (prob, i, repeat) -> begin\n",
    "    prob.ps[DOX] = doxrange[i]\n",
    "    prob\n",
    "end\n",
    "\n",
    "eprob = EnsembleProblem(prob; prob_func)\n",
    "@time sim = solve(eprob, alg; trajectories=length(doxrange), opts...)"
   ],
   "metadata": {},
   "execution_count": null
  },
  {
   "outputs": [],
   "cell_type": "code",
   "source": [
    "fig = plot(title=\"MMP\")\n",
    "for (i, dox) in enumerate(doxrange)\n",
    "    plot!(fig, sim[i], idxs=(sys.t/1000, sys.dpsi), lab=\"DOX = $(dox) μM\")\n",
    "end\n",
    "plot!(fig, ylabel=\"mV\", xlabel=\"Time (s)\") |> PNG"
   ],
   "metadata": {},
   "execution_count": null
  },
  {
   "outputs": [],
   "cell_type": "code",
   "source": [
    "fig = plot(title=\"ATP\")\n",
    "for (i, dox) in enumerate(doxrange)\n",
    "    plot!(fig, sim[i], idxs=(sys.t/1000, sys.atp_i), lab=\"DOX = $(dox) μM\")\n",
    "end\n",
    "plot!(fig, ylabel=\"Conc. (μM)\", xlabel=\"Time (s)\", legend=:bottomright, ylim=(0, 8mM)) |> PNG"
   ],
   "metadata": {},
   "execution_count": null
  },
  {
   "outputs": [],
   "cell_type": "code",
   "source": [
    "fig = plot(title=\"Cytosolic superoxide\")\n",
    "for (i, dox) in enumerate(doxrange)\n",
    "    plot!(fig, sim[i], idxs=(sys.t/1000, sys.sox_i), lab=\"DOX = $(dox) μM\")\n",
    "end\n",
    "plot!(fig, ylabel=\"Conc. (μM)\", xlabel=\"Time (s)\", legend=:right) |> PNG"
   ],
   "metadata": {},
   "execution_count": null
  },
  {
   "outputs": [],
   "cell_type": "code",
   "source": [
    "fig = plot(title=\"Mitochondrial superoxide\")\n",
    "for (i, dox) in enumerate(doxrange)\n",
    "    plot!(fig, sim[i], idxs=(sys.t/1000, sys.sox_m), lab=\"DOX = $(dox) μM\")\n",
    "end\n",
    "plot!(fig, ylabel=\"Conc. (μM)\", xlabel=\"Time (s)\", legend=:topright) |> PNG"
   ],
   "metadata": {},
   "execution_count": null
  },
  {
   "outputs": [],
   "cell_type": "code",
   "source": [
    "fig = plot(title=\"Superoxide production\")\n",
    "for (i, dox) in enumerate(doxrange)\n",
    "    plot!(fig, sim[i], idxs=(sys.t/1000, sys.vROS), lab=\"DOX = $(dox) μM\")\n",
    "end\n",
    "plot!(fig, ylabel=\"Rate (μM/ms)\", xlabel=\"Time (s)\", legend=:right) |> PNG"
   ],
   "metadata": {},
   "execution_count": null
  },
  {
   "outputs": [],
   "cell_type": "code",
   "source": [
    "fig = plot(title=\"O2 shunt\")\n",
    "for (i, dox) in enumerate(doxrange)\n",
    "    plot!(fig, sim[i], idxs=(sys.t/1000, 100*sys.vROS / (sys.vO2 + sys.vROS)), lab=\"DOX = $(dox) μM\")\n",
    "end\n",
    "plot!(fig, ylabel=\"Percentage (%)\", xlabel=\"Time (s)\", legend=:right) |> PNG"
   ],
   "metadata": {},
   "execution_count": null
  },
  {
   "outputs": [],
   "cell_type": "code",
   "source": [
    "@unpack Q_n, SQn, QH2_n, QH2_p, Q_p, fes_ox, fes_rd, cytc_ox, cytc_rd = sys\n",
    "plot(sim[end], idxs=[Q_n + Q_p, SQn, QH2_n+QH2_p], title=\"Q cycle \", legend=:right) |> PNG"
   ],
   "metadata": {},
   "execution_count": null
  },
  {
   "outputs": [],
   "cell_type": "code",
   "source": [
    "plot(sim[end], idxs=[fes_ox, fes_rd, cytc_ox, cytc_rd], title=\"Q cycle (downstream)\", legend=:right) |> PNG"
   ],
   "metadata": {},
   "execution_count": null
  },
  {
   "outputs": [],
   "cell_type": "code",
   "source": [
    "@unpack cit, isoc, oaa, akg, scoa, suc, fum, mal, nadh_m = sys\n",
    "plot(sim[end], idxs=[cit, isoc, oaa, akg, scoa, suc, fum, mal, nadh_m], title=\"TCA cycle \", legend=:right) |> PNG"
   ],
   "metadata": {},
   "execution_count": null
  },
  {
   "cell_type": "markdown",
   "source": [
    "---\n",
    "\n",
    "*This notebook was generated using [Literate.jl](https://github.com/fredrikekre/Literate.jl).*"
   ],
   "metadata": {}
  }
 ],
 "nbformat_minor": 3,
 "metadata": {
  "language_info": {
   "file_extension": ".jl",
   "mimetype": "application/julia",
   "name": "julia",
   "version": "1.11.6"
  },
  "kernelspec": {
   "name": "julia-1.11",
   "display_name": "Julia 1.11.6",
   "language": "julia"
  }
 },
 "nbformat": 4
}
