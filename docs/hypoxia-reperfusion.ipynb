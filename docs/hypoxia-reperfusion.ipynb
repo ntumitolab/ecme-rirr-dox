{
 "cells": [
  {
   "cell_type": "markdown",
   "source": [
    "# Hypoxia reperfusion simulation"
   ],
   "metadata": {}
  },
  {
   "outputs": [],
   "cell_type": "code",
   "source": [
    "using ProgressLogging\n",
    "using OrdinaryDiffEq\n",
    "using ModelingToolkit\n",
    "using DiffEqCallbacks\n",
    "using ECMEDox\n",
    "using ECMEDox: second, Hz, μM, nM, mV\n",
    "using Plots\n",
    "using DisplayAs: PNG\n",
    "Plots.default(lw=1.5)"
   ],
   "metadata": {},
   "execution_count": null
  },
  {
   "outputs": [],
   "cell_type": "code",
   "source": [
    "tend = 100.0second\n",
    "bcl = 1.0second\n",
    "@named sys = build_model()\n",
    "u0 = build_u0(sys)\n",
    "sts = unknowns(sys)\n",
    "alg = KenCarp47()\n",
    "@unpack iStim = sys\n",
    "stim! = build_stim_callbacks(iStim, tend; period=bcl)\n",
    "\n",
    "prob = ODEProblem(sys, [u0; sys.O2_o => 6nM], tend)\n",
    "\n",
    "reoxygen! = (integrator) -> begin\n",
    "    integrator.ps[sys.O2_o] = 6μM\n",
    "    set_proposed_dt!(integrator, 1e-6)\n",
    "end\n",
    "\n",
    "cbs = CallbackSet(stim!, PresetTimeCallback(50.0second, reoxygen!))"
   ],
   "metadata": {},
   "execution_count": null
  },
  {
   "outputs": [],
   "cell_type": "code",
   "source": [
    "@time sol = solve(prob, alg; reltol=1e-6, abstol=1e-6, progress=true, dt=1e-6, callback=cbs)"
   ],
   "metadata": {},
   "execution_count": null
  },
  {
   "outputs": [],
   "cell_type": "code",
   "source": [
    "@unpack vm, dpsi, atp_i, adp_i = sys\n",
    "pl_mmp = plot(sol, idxs=dpsi, lab=false, title=\"(A) Mito. memb. potential\", xlabel=\"\", ylabel=\"Voltage (mV)\")\n",
    "pl_mmp = vline!(pl_mmp, [50.0second], lines=(:dash, :black), lab=false)\n",
    "pl_vm = plot(sol, idxs=vm, lab=false, title=\"(B) Action potential\", xlabel=\"\", ylabel=\"Voltage (mV)\")\n",
    "pl_vm = vline!(pl_vm, [50.0second], lines=(:dash, :black), lab=false)\n",
    "pl_atp = plot(sol, idxs=atp_i/1000, lab=false, title=\"(C) ATP\", xlabel=\"\", ylabel=\"Conc. (mM)\")\n",
    "pl_atp = vline!(pl_atp, [50.0second], lines=(:dash, :black), lab=false)\n",
    "@unpack cit, isoc, oaa, akg, scoa, suc, fum, mal = sys\n",
    "pl_cac = plot(sol, idxs=[cit, isoc, oaa, akg, scoa, suc, fum, mal], legend=:right, title=\"(D) CAC intermediates\", xlabel=\"Time (ms)\", ylabel=\"Conc. (μM)\")\n",
    "pl_cac = vline!(pl_cac, [50.0second], lines=(:dash, :black), lab=false)\n",
    "@unpack Q_n, SQn, QH2_n, QH2_p, Q_p, fes_ox, fes_rd, cytc_ox, cytc_rd = sys\n",
    "pl_q = plot(sol, idxs=[Q_n, Q_p, SQn, QH2_n, QH2_p], title=\"(E) Q cycle\", legend=:left, xlabel=\"Time (ms)\", ylabel=\"Conc. (μM)\")\n",
    "pl_q = vline!(pl_q, [50.0second], lines=(:dash, :black), lab=false)\n",
    "pl_ros = plot(sol, idxs=100 * sys.vROS / (sys.vO2 + sys.vROS), title=\"(F) ROS generation\", lab=false, xlabel=\"Time (ms)\", ylabel=\"Fraction of O2 consumption (%)\", ylims=(0, 100))\n",
    "pl_ros = vline!(pl_ros, [50.0second], lines=(:dash, :black), lab=false)\n",
    "plot(pl_mmp, pl_vm, pl_atp, pl_cac, pl_q, pl_ros, size=(1200, 800)) |> PNG"
   ],
   "metadata": {},
   "execution_count": null
  },
  {
   "cell_type": "markdown",
   "source": [
    "MMP"
   ],
   "metadata": {}
  },
  {
   "outputs": [],
   "cell_type": "code",
   "source": [
    "@unpack vm, dpsi, atp_i, adp_i = sys\n",
    "pl_mmp = plot(sol, idxs=dpsi, lab=false, title=\"(A) Mito. memb. potential\", xlabel=\"\", ylabel=\"Voltage (mV)\")\n",
    "vline!(pl_mmp, [50.0second], lines=(:dash, :black), lab=false)\n",
    "pl_mmp |> PNG"
   ],
   "metadata": {},
   "execution_count": null
  },
  {
   "cell_type": "markdown",
   "source": [
    "Action potential"
   ],
   "metadata": {}
  },
  {
   "outputs": [],
   "cell_type": "code",
   "source": [
    "pl_vm = plot(sol, idxs=vm, lab=false, title=\"(B) Action potential\", xlabel=\"\", ylabel=\"Voltage (mV)\")\n",
    "vline!(pl_vm, [50.0second], lines=(:dash, :black), lab=false)\n",
    "pl_vm |> PNG"
   ],
   "metadata": {},
   "execution_count": null
  },
  {
   "cell_type": "markdown",
   "source": [
    "ATP"
   ],
   "metadata": {}
  },
  {
   "outputs": [],
   "cell_type": "code",
   "source": [
    "pl_atp = plot(sol, idxs=atp_i/1000, lab=false, title=\"(C) ATP\", xlabel=\"\", ylabel=\"Conc. (mM)\")\n",
    "vline!(pl_atp, [50.0second], lines=(:dash, :black), lab=false)\n",
    "pl_atp |> PNG"
   ],
   "metadata": {},
   "execution_count": null
  },
  {
   "cell_type": "markdown",
   "source": [
    "CAC"
   ],
   "metadata": {}
  },
  {
   "outputs": [],
   "cell_type": "code",
   "source": [
    "@unpack cit, isoc, oaa, akg, scoa, suc, fum, mal, nadh_m = sys\n",
    "pl_cac = plot(sol, idxs=[cit, isoc, oaa, akg, scoa, suc, fum, mal, nadh_m], legend=:right, title=\"(D) CAC intermediates\", xlabel=\"Time (ms)\", ylabel=\"Conc. (μM)\")\n",
    "vline!(pl_cac, [50.0second], lines=(:dash, :black), lab=false)\n",
    "pl_cac |> PNG"
   ],
   "metadata": {},
   "execution_count": null
  },
  {
   "cell_type": "markdown",
   "source": [
    "CAC flux"
   ],
   "metadata": {}
  },
  {
   "outputs": [],
   "cell_type": "code",
   "source": [
    "pl = plot(sol, idxs=[sys.vSDH, sys.vAAT, sys.vMDH, sys.vIDH])\n",
    "vline!(pl, [50.0second], lines=(:dash, :black), lab=false)\n",
    "pl |> PNG"
   ],
   "metadata": {},
   "execution_count": null
  },
  {
   "cell_type": "markdown",
   "source": [
    "Q cycle"
   ],
   "metadata": {}
  },
  {
   "outputs": [],
   "cell_type": "code",
   "source": [
    "@unpack Q_n, SQn, QH2_n, QH2_p, Q_p, fes_ox, fes_rd, cytc_ox, cytc_rd = sys\n",
    "pl_q = plot(sol, idxs=[Q_n, Q_p, SQn, QH2_n, QH2_p], title=\"(E) Q cycle\", legend=:left, xlabel=\"Time (ms)\", ylabel=\"Conc. (μM)\")\n",
    "vline!(pl_q, [50.0second], lines=(:dash, :black), lab=false)\n",
    "pl_q |> PNG"
   ],
   "metadata": {},
   "execution_count": null
  },
  {
   "cell_type": "markdown",
   "source": [
    "Downstream of Q cycle"
   ],
   "metadata": {}
  },
  {
   "outputs": [],
   "cell_type": "code",
   "source": [
    "pl = plot(sol, idxs=[fes_ox, fes_rd, cytc_ox, cytc_rd], title=\"Q cycle downstream\", legend=:left, xlabel=\"Time (ms)\", ylabel=\"Conc. (μM)\")\n",
    "vline!(pl, [50.0second], lines=(:dash, :black), lab=false)\n",
    "pl |> PNG"
   ],
   "metadata": {},
   "execution_count": null
  },
  {
   "cell_type": "markdown",
   "source": [
    "Proton pumping"
   ],
   "metadata": {}
  },
  {
   "outputs": [],
   "cell_type": "code",
   "source": [
    "pl = plot(sol, idxs=[sys.vHresC1, sys.vHresC3, sys.vHresC4], title=\"Proton pumping\", legend=:left, xlabel=\"Time (ms)\", ylabel=\"Rate (μM/ms)\")\n",
    "vline!(pl, [50.0second], lines=(:dash, :black), lab=false)\n",
    "pl |> PNG"
   ],
   "metadata": {},
   "execution_count": null
  },
  {
   "cell_type": "markdown",
   "source": [
    "Mito oxygen concentration"
   ],
   "metadata": {}
  },
  {
   "outputs": [],
   "cell_type": "code",
   "source": [
    "pl = plot(sol, idxs=sys.O2)\n",
    "vline!(pl, [50.0second], lines=(:dash, :black), lab=false)\n",
    "pl |> PNG"
   ],
   "metadata": {},
   "execution_count": null
  },
  {
   "cell_type": "markdown",
   "source": [
    "O2 shunt"
   ],
   "metadata": {}
  },
  {
   "outputs": [],
   "cell_type": "code",
   "source": [
    "pl_ros = plot(sol, idxs=100 * sys.vROS / (sys.vO2 + sys.vROS), title=\"(F) ROS generation\", lab=false, xlabel=\"Time (ms)\", ylabel=\"Fraction of O2 consumption (%)\", ylims=(0, 100))\n",
    "vline!(pl_ros, [50.0second], lines=(:dash, :black), lab=false)\n",
    "pl_ros |> PNG"
   ],
   "metadata": {},
   "execution_count": null
  },
  {
   "cell_type": "markdown",
   "source": [
    "Superoxide production"
   ],
   "metadata": {}
  },
  {
   "outputs": [],
   "cell_type": "code",
   "source": [
    "pl = plot(sol, idxs=[sys.vROSC1, sys.vROSIf, sys.vROSIq, sys.vROSC3], ylims=(0.0, 0.05))\n",
    "vline!(pl, [50.0second], lines=(:dash, :black), lab=false)\n",
    "pl |> PNG"
   ],
   "metadata": {},
   "execution_count": null
  },
  {
   "cell_type": "markdown",
   "source": [
    "Superoxide concentrations"
   ],
   "metadata": {}
  },
  {
   "outputs": [],
   "cell_type": "code",
   "source": [
    "pl = plot(sol, idxs=[sys.sox_m, sys.sox_i])\n",
    "vline!(pl, [50.0second], lines=(:dash, :black), lab=false)\n",
    "pl |> PNG"
   ],
   "metadata": {},
   "execution_count": null
  },
  {
   "cell_type": "markdown",
   "source": [
    "Semiquinone from Complex III Qo"
   ],
   "metadata": {}
  },
  {
   "outputs": [],
   "cell_type": "code",
   "source": [
    "pl = plot(sol, idxs=[sys.SQp])\n",
    "vline!(pl, [50.0second], lines=(:dash, :black), lab=false)\n",
    "pl |> PNG"
   ],
   "metadata": {},
   "execution_count": null
  },
  {
   "cell_type": "markdown",
   "source": [
    "---\n",
    "\n",
    "*This notebook was generated using [Literate.jl](https://github.com/fredrikekre/Literate.jl).*"
   ],
   "metadata": {}
  }
 ],
 "nbformat_minor": 3,
 "metadata": {
  "language_info": {
   "file_extension": ".jl",
   "mimetype": "application/julia",
   "name": "julia",
   "version": "1.11.6"
  },
  "kernelspec": {
   "name": "julia-1.11",
   "display_name": "Julia 1.11.6",
   "language": "julia"
  }
 },
 "nbformat": 4
}
